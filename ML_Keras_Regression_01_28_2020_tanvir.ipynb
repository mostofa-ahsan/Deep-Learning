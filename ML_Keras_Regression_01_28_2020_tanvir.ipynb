{
 "cells": [
  {
   "cell_type": "code",
   "execution_count": 1,
   "metadata": {},
   "outputs": [],
   "source": [
    "# https://medium.com/datadriveninvestor/building-neural-network-using-keras-for-regression-ceee5a9eadff\n",
    "# import numpy as np\n",
    "# import pandas as pd\n",
    "# import seaborn as sns\n",
    "# import matplotlib.pyplot as plt\n",
    "# import tensorflow as tf\n",
    "# import random\n",
    "# import tensorflow.contrib.keras as keras\n",
    "# %matplotlib inline"
   ]
  },
  {
   "cell_type": "code",
   "execution_count": 2,
   "metadata": {},
   "outputs": [],
   "source": [
    "# from sklearn.model_selection import cross_val_score\n",
    "# from sklearn.model_selection import KFold\n",
    "# from sklearn.pipeline import Pipeline\n",
    "# from sklearn.preprocessing import MinMaxScaler\n",
    "# from sklearn.model_selection import train_test_split\n",
    "# from sklearn.model_selection import KFold\n",
    "# from keras.models import Sequential\n",
    "# from sklearn.datasets import make_regression\n",
    "# from keras.layers import Dense, Dropout\n",
    "# from keras.wrappers.scikit_learn import KerasRegressor"
   ]
  },
  {
   "cell_type": "code",
   "execution_count": 3,
   "metadata": {},
   "outputs": [],
   "source": [
    "# all_columns = [ 'A', 'B', 'C', 'D', 'E', 'F', 'G', 'LABEL']"
   ]
  },
  {
   "cell_type": "code",
   "execution_count": 4,
   "metadata": {},
   "outputs": [],
   "source": [
    "# read_file = pd.read_excel (r'C:/Users/T_Tan/OneDrive/Desktop/dummyTrain.xlsx')\n",
    "# read_file.to_csv (r'dummyTrain.csv', index = None, header=True)\n",
    "# read_file = pd.read_excel (r'C:/Users/T_Tan/OneDrive/Desktop/dummyTest.xlsx')\n",
    "# read_file.to_csv (r'dummyTest.csv', index = None, header=True)"
   ]
  },
  {
   "cell_type": "code",
   "execution_count": 5,
   "metadata": {},
   "outputs": [],
   "source": [
    "# TraininSet = pd.read_csv('dummyTrain.csv', names= all_columns)\n",
    "# ValidationSet = pd.read_csv('dummyTest.csv', names=all_columns)"
   ]
  },
  {
   "cell_type": "code",
   "execution_count": 6,
   "metadata": {},
   "outputs": [],
   "source": [
    "# Data.head(10)\n"
   ]
  },
  {
   "cell_type": "code",
   "execution_count": 7,
   "metadata": {},
   "outputs": [],
   "source": [
    "# X_test = Data_t.drop('LABEL', axis=1)\n",
    "# X_test.head()"
   ]
  },
  {
   "cell_type": "code",
   "execution_count": 8,
   "metadata": {},
   "outputs": [],
   "source": [
    "# Data.describe().transpose()"
   ]
  },
  {
   "cell_type": "code",
   "execution_count": 9,
   "metadata": {},
   "outputs": [],
   "source": [
    "# X_train = Data.iloc[:,0:7]\n",
    "# y_train = Data.iloc[:,7].values"
   ]
  },
  {
   "cell_type": "code",
   "execution_count": 10,
   "metadata": {},
   "outputs": [],
   "source": [
    "# sc= MinMaxScaler()\n",
    "# X= sc.fit_transform(X)\n",
    "# y= y.reshape(-1,1)\n",
    "# y=sc.fit_transform(y)"
   ]
  },
  {
   "cell_type": "code",
   "execution_count": 11,
   "metadata": {},
   "outputs": [],
   "source": [
    "# scaler = MinMaxScaler()"
   ]
  },
  {
   "cell_type": "code",
   "execution_count": 12,
   "metadata": {},
   "outputs": [],
   "source": [
    "# scaler.fit(X_train)"
   ]
  },
  {
   "cell_type": "code",
   "execution_count": 13,
   "metadata": {},
   "outputs": [],
   "source": [
    "# X_train = pd.DataFrame(data=scaler.transform(X_train),columns = X_train.columns,index=X_train.index)"
   ]
  },
  {
   "cell_type": "code",
   "execution_count": 14,
   "metadata": {},
   "outputs": [],
   "source": [
    "# X_test = pd.DataFrame(data=scaler.transform(y_train),columns = y_train.columns,index=X_test.index)"
   ]
  },
  {
   "cell_type": "code",
   "execution_count": 15,
   "metadata": {},
   "outputs": [],
   "source": [
    "# X_train, X_test, y_train, y_test = train_test_split(X, y, test_size=0.333)"
   ]
  },
  {
   "cell_type": "code",
   "execution_count": 16,
   "metadata": {},
   "outputs": [],
   "source": [
    "# np.savetxt(\"dummy_Xtrain.csv\", X_train, delimiter=\",\")\n",
    "# print(X_train.shape); print(X_test.shape)"
   ]
  },
  {
   "cell_type": "code",
   "execution_count": 17,
   "metadata": {},
   "outputs": [],
   "source": [
    "# Why dropout is not used here\n",
    "# https://machinelearningmastery.com/dropout-regularization-deep-learning-models-keras/"
   ]
  },
  {
   "cell_type": "code",
   "execution_count": 18,
   "metadata": {},
   "outputs": [],
   "source": [
    "# def build_regressor():\n",
    "#     regressor = Sequential()\n",
    "#     regressor.add(Dense(units=500, input_dim=7, activation=\"relu\"))\n",
    "#     regressor.add(Dropout(0.5))\n",
    "#     regressor.add(Dense(units=100, activation=\"relu\"))\n",
    "#     regressor.add(Dropout(0.2))\n",
    "#     regressor.add(Dense(units=50))\n",
    "#     regressor.add(Dropout(0.2))\n",
    "#     regressor.add(Dense(units=1))\n",
    "#     regressor.compile(optimizer='adam', loss='mean_squared_error',  \n",
    "# metrics=['mae','accuracy'])\n",
    "#     return regressor"
   ]
  },
  {
   "cell_type": "code",
   "execution_count": 19,
   "metadata": {},
   "outputs": [],
   "source": [
    "# regressor = KerasRegressor(build_fn=build_regressor, batch_size=32,epochs=120)"
   ]
  },
  {
   "cell_type": "code",
   "execution_count": 20,
   "metadata": {},
   "outputs": [],
   "source": [
    "# results=regressor.fit(X_train,y_train, verbose=0)"
   ]
  },
  {
   "cell_type": "code",
   "execution_count": 21,
   "metadata": {},
   "outputs": [],
   "source": [
    "# y_pred= regressor.predict(X_test)"
   ]
  },
  {
   "cell_type": "code",
   "execution_count": 22,
   "metadata": {},
   "outputs": [],
   "source": [
    "# fig, ax = plt.subplots()\n",
    "# ax.scatter(y_test, y_pred)\n",
    "# ax.plot([y_test.min(), y_test.max()], [y_test.min(), y_test.max()],'r--', lw=4)\n",
    "# ax.set_xlabel('Measured', fontsize=12)\n",
    "# ax.set_ylabel('Predicted', fontsize=12)\n",
    "# plt.legend(['Predicted', 'Measured'])\n",
    "# plt.tight_layout()\n",
    "# plt.show()"
   ]
  },
  {
   "cell_type": "code",
   "execution_count": 23,
   "metadata": {},
   "outputs": [],
   "source": [
    "# plt.plot(results.history['loss'])\n",
    "# plt.plot(results.history['val_loss'])\n",
    "# plt.title('Model Loss', fontsize=14)\n",
    "# plt.ylabel('Loss', fontsize=12)\n",
    "# plt.xlabel('Epoch', fontsize=12)\n",
    "# plt.legend(['train', 'validation'])\n",
    "# plt.tight_layout()\n",
    "# plt.show()"
   ]
  },
  {
   "cell_type": "code",
   "execution_count": 24,
   "metadata": {},
   "outputs": [],
   "source": [
    "# y_pred"
   ]
  },
  {
   "cell_type": "code",
   "execution_count": 25,
   "metadata": {},
   "outputs": [],
   "source": [
    "# http://shankarananth.com/?p=620"
   ]
  },
  {
   "cell_type": "code",
   "execution_count": 26,
   "metadata": {},
   "outputs": [
    {
     "name": "stderr",
     "output_type": "stream",
     "text": [
      "D:\\ProgramData\\Anaconda3\\envs\\Keras\\lib\\site-packages\\tensorflow\\python\\framework\\dtypes.py:458: FutureWarning: Passing (type, 1) or '1type' as a synonym of type is deprecated; in a future version of numpy, it will be understood as (type, (1,)) / '(1,)type'.\n",
      "  _np_qint8 = np.dtype([(\"qint8\", np.int8, 1)])\n",
      "D:\\ProgramData\\Anaconda3\\envs\\Keras\\lib\\site-packages\\tensorflow\\python\\framework\\dtypes.py:459: FutureWarning: Passing (type, 1) or '1type' as a synonym of type is deprecated; in a future version of numpy, it will be understood as (type, (1,)) / '(1,)type'.\n",
      "  _np_quint8 = np.dtype([(\"quint8\", np.uint8, 1)])\n",
      "D:\\ProgramData\\Anaconda3\\envs\\Keras\\lib\\site-packages\\tensorflow\\python\\framework\\dtypes.py:460: FutureWarning: Passing (type, 1) or '1type' as a synonym of type is deprecated; in a future version of numpy, it will be understood as (type, (1,)) / '(1,)type'.\n",
      "  _np_qint16 = np.dtype([(\"qint16\", np.int16, 1)])\n",
      "D:\\ProgramData\\Anaconda3\\envs\\Keras\\lib\\site-packages\\tensorflow\\python\\framework\\dtypes.py:461: FutureWarning: Passing (type, 1) or '1type' as a synonym of type is deprecated; in a future version of numpy, it will be understood as (type, (1,)) / '(1,)type'.\n",
      "  _np_quint16 = np.dtype([(\"quint16\", np.uint16, 1)])\n",
      "D:\\ProgramData\\Anaconda3\\envs\\Keras\\lib\\site-packages\\tensorflow\\python\\framework\\dtypes.py:462: FutureWarning: Passing (type, 1) or '1type' as a synonym of type is deprecated; in a future version of numpy, it will be understood as (type, (1,)) / '(1,)type'.\n",
      "  _np_qint32 = np.dtype([(\"qint32\", np.int32, 1)])\n",
      "D:\\ProgramData\\Anaconda3\\envs\\Keras\\lib\\site-packages\\tensorflow\\python\\framework\\dtypes.py:465: FutureWarning: Passing (type, 1) or '1type' as a synonym of type is deprecated; in a future version of numpy, it will be understood as (type, (1,)) / '(1,)type'.\n",
      "  np_resource = np.dtype([(\"resource\", np.ubyte, 1)])\n"
     ]
    }
   ],
   "source": [
    "import numpy as np\n",
    "import pandas as pd\n",
    "import seaborn as sns\n",
    "import matplotlib.pyplot as plt\n",
    "import tensorflow as tf\n",
    "import random\n",
    "import tensorflow.contrib.keras as keras\n",
    "%matplotlib inline"
   ]
  },
  {
   "cell_type": "code",
   "execution_count": 27,
   "metadata": {},
   "outputs": [
    {
     "name": "stderr",
     "output_type": "stream",
     "text": [
      "Using TensorFlow backend.\n"
     ]
    }
   ],
   "source": [
    "from sklearn.model_selection import cross_val_score\n",
    "from sklearn.model_selection import KFold\n",
    "from sklearn.pipeline import Pipeline\n",
    "from sklearn.preprocessing import MinMaxScaler\n",
    "from sklearn.model_selection import train_test_split\n",
    "from sklearn.model_selection import KFold\n",
    "from keras.models import Sequential\n",
    "from keras.regularizers import l1,l2\n",
    "from sklearn.datasets import make_regression\n",
    "from keras.layers import Dense, Dropout\n",
    "from keras.wrappers.scikit_learn import KerasRegressor"
   ]
  },
  {
   "cell_type": "code",
   "execution_count": 28,
   "metadata": {},
   "outputs": [],
   "source": [
    "import matplotlib.pyplot as plt\n",
    "%matplotlib inline\n",
    "import numpy\n",
    "import tensorflow.contrib.keras as keras"
   ]
  },
  {
   "cell_type": "code",
   "execution_count": 29,
   "metadata": {},
   "outputs": [],
   "source": [
    "from keras.models import Sequential\n",
    "from keras.layers import Dense\n",
    "from sklearn.metrics import r2_score"
   ]
  },
  {
   "cell_type": "code",
   "execution_count": 30,
   "metadata": {},
   "outputs": [],
   "source": [
    "read_file = pd.read_excel (r'C:/Users/T_Tan/OneDrive/Desktop/dummyTrain.xlsx')\n",
    "read_file.to_csv (r'dummyTrain.csv', index = None, header=True)\n",
    "read_file = pd.read_excel (r'C:/Users/T_Tan/OneDrive/Desktop/dummyTest.xlsx')\n",
    "read_file.to_csv (r'dummyTest.csv', index = None, header=True)"
   ]
  },
  {
   "cell_type": "code",
   "execution_count": 31,
   "metadata": {},
   "outputs": [],
   "source": [
    "TrainingSet = numpy.genfromtxt(\"dummyTrain.csv\", delimiter=\",\")\n",
    "ValidationSet = numpy.genfromtxt(\"dummyTest.csv\", delimiter=\",\")"
   ]
  },
  {
   "cell_type": "code",
   "execution_count": 32,
   "metadata": {},
   "outputs": [],
   "source": [
    "X1 = TrainingSet[:,0:8]\n",
    "Y1 = TrainingSet[:,8]"
   ]
  },
  {
   "cell_type": "code",
   "execution_count": 33,
   "metadata": {},
   "outputs": [],
   "source": [
    "X2 = ValidationSet[:,0:8]\n",
    "Y2 = ValidationSet[:,8]"
   ]
  },
  {
   "cell_type": "code",
   "execution_count": 34,
   "metadata": {},
   "outputs": [],
   "source": [
    "# variable = tf.Variable(0.001, dtype=tf.int32)"
   ]
  },
  {
   "cell_type": "code",
   "execution_count": 35,
   "metadata": {},
   "outputs": [],
   "source": [
    "# type(variable)"
   ]
  },
  {
   "cell_type": "code",
   "execution_count": 36,
   "metadata": {},
   "outputs": [],
   "source": [
    "model = Sequential()\n",
    "model.add(Dense(600, activation=\"relu\", input_dim=8, kernel_initializer=\"uniform\"))\n",
    "model.add(Dropout(0.5))\n",
    "model.add(Dense(400, activation=\"relu\", input_dim=8, kernel_initializer=\"uniform\"))\n",
    "model.add(Dropout(0.3))\n",
    "model.add(Dense(200, activation=\"relu\", input_dim=8, kernel_initializer=\"uniform\"))\n",
    "model.add(Dropout(0.2))\n",
    "model.add(Dense(100, activation=\"relu\", input_dim=8, kernel_initializer=\"uniform\"))\n",
    "model.add(Dense(50, activation=\"relu\", input_dim=8, kernel_initializer=\"uniform\"))\n",
    "model.add(Dense(1, activation=\"linear\", kernel_initializer=\"uniform\"))"
   ]
  },
  {
   "cell_type": "code",
   "execution_count": 37,
   "metadata": {},
   "outputs": [],
   "source": [
    "model.compile(loss='mse', optimizer='adam', metrics=['accuracy'])"
   ]
  },
  {
   "cell_type": "code",
   "execution_count": 38,
   "metadata": {},
   "outputs": [
    {
     "name": "stdout",
     "output_type": "stream",
     "text": [
      "Epoch 1/200\n",
      "630/630 [==============================] - 1s 936us/step - loss: 9525.6537 - acc: 0.0000e+00\n",
      "Epoch 2/200\n",
      "630/630 [==============================] - 0s 243us/step - loss: 2020.1450 - acc: 0.0000e+00\n",
      "Epoch 3/200\n",
      "630/630 [==============================] - 0s 236us/step - loss: 1135.7807 - acc: 0.0000e+00\n",
      "Epoch 4/200\n",
      "630/630 [==============================] - 0s 253us/step - loss: 489.5548 - acc: 0.0000e+00\n",
      "Epoch 5/200\n",
      "630/630 [==============================] - 0s 248us/step - loss: 393.3789 - acc: 0.0000e+00\n",
      "Epoch 6/200\n",
      "630/630 [==============================] - 0s 244us/step - loss: 344.9723 - acc: 0.0000e+00\n",
      "Epoch 7/200\n",
      "630/630 [==============================] - 0s 234us/step - loss: 344.8195 - acc: 0.0000e+00\n",
      "Epoch 8/200\n",
      "630/630 [==============================] - 0s 244us/step - loss: 276.9993 - acc: 0.0000e+00\n",
      "Epoch 9/200\n",
      "630/630 [==============================] - 0s 258us/step - loss: 285.9594 - acc: 0.0000e+00\n",
      "Epoch 10/200\n",
      "630/630 [==============================] - 0s 244us/step - loss: 272.9003 - acc: 0.0000e+00\n",
      "Epoch 11/200\n",
      "630/630 [==============================] - 0s 222us/step - loss: 251.4227 - acc: 0.0000e+00\n",
      "Epoch 12/200\n",
      "630/630 [==============================] - 0s 230us/step - loss: 306.6466 - acc: 0.0000e+00\n",
      "Epoch 13/200\n",
      "630/630 [==============================] - 0s 234us/step - loss: 261.1899 - acc: 0.0000e+00\n",
      "Epoch 14/200\n",
      "630/630 [==============================] - 0s 235us/step - loss: 247.2002 - acc: 0.0000e+00\n",
      "Epoch 15/200\n",
      "630/630 [==============================] - 0s 222us/step - loss: 242.8797 - acc: 0.0000e+00\n",
      "Epoch 16/200\n",
      "630/630 [==============================] - 0s 214us/step - loss: 279.2394 - acc: 0.0000e+00\n",
      "Epoch 17/200\n",
      "630/630 [==============================] - 0s 234us/step - loss: 238.1297 - acc: 0.0000e+00\n",
      "Epoch 18/200\n",
      "630/630 [==============================] - 0s 248us/step - loss: 232.9960 - acc: 0.0000e+00\n",
      "Epoch 19/200\n",
      "630/630 [==============================] - 0s 228us/step - loss: 216.6602 - acc: 0.0000e+00\n",
      "Epoch 20/200\n",
      "630/630 [==============================] - 0s 244us/step - loss: 249.1647 - acc: 0.0000e+00\n",
      "Epoch 21/200\n",
      "630/630 [==============================] - 0s 236us/step - loss: 234.3548 - acc: 0.0000e+00\n",
      "Epoch 22/200\n",
      "630/630 [==============================] - 0s 211us/step - loss: 240.9042 - acc: 0.0000e+00\n",
      "Epoch 23/200\n",
      "630/630 [==============================] - 0s 239us/step - loss: 236.7704 - acc: 0.0000e+00\n",
      "Epoch 24/200\n",
      "630/630 [==============================] - 0s 234us/step - loss: 245.4916 - acc: 0.0000e+00\n",
      "Epoch 25/200\n",
      "630/630 [==============================] - 0s 219us/step - loss: 222.7640 - acc: 0.0000e+00\n",
      "Epoch 26/200\n",
      "630/630 [==============================] - 0s 234us/step - loss: 249.9267 - acc: 0.0000e+00\n",
      "Epoch 27/200\n",
      "630/630 [==============================] - 0s 244us/step - loss: 269.1264 - acc: 0.0000e+00\n",
      "Epoch 28/200\n",
      "630/630 [==============================] - 0s 239us/step - loss: 239.5823 - acc: 0.0000e+00\n",
      "Epoch 29/200\n",
      "630/630 [==============================] - 0s 248us/step - loss: 207.3665 - acc: 0.0000e+00\n",
      "Epoch 30/200\n",
      "630/630 [==============================] - 0s 199us/step - loss: 244.0409 - acc: 0.0000e+00\n",
      "Epoch 31/200\n",
      "630/630 [==============================] - 0s 234us/step - loss: 236.0544 - acc: 0.0000e+00\n",
      "Epoch 32/200\n",
      "630/630 [==============================] - 0s 219us/step - loss: 235.2336 - acc: 0.0000e+00\n",
      "Epoch 33/200\n",
      "630/630 [==============================] - 0s 207us/step - loss: 206.6493 - acc: 0.0000e+00\n",
      "Epoch 34/200\n",
      "630/630 [==============================] - 0s 221us/step - loss: 221.5197 - acc: 0.0000e+00\n",
      "Epoch 35/200\n",
      "630/630 [==============================] - 0s 236us/step - loss: 231.1786 - acc: 0.0000e+00\n",
      "Epoch 36/200\n",
      "630/630 [==============================] - 0s 206us/step - loss: 191.2307 - acc: 0.0000e+00\n",
      "Epoch 37/200\n",
      "630/630 [==============================] - 0s 218us/step - loss: 226.4159 - acc: 0.0000e+00\n",
      "Epoch 38/200\n",
      "630/630 [==============================] - 0s 234us/step - loss: 186.4936 - acc: 0.0000e+00\n",
      "Epoch 39/200\n",
      "630/630 [==============================] - 0s 219us/step - loss: 193.5273 - acc: 0.0000e+00\n",
      "Epoch 40/200\n",
      "630/630 [==============================] - 0s 209us/step - loss: 209.5369 - acc: 0.0000e+00\n",
      "Epoch 41/200\n",
      "630/630 [==============================] - 0s 208us/step - loss: 197.7181 - acc: 0.0000e+00\n",
      "Epoch 42/200\n",
      "630/630 [==============================] - 0s 242us/step - loss: 200.4896 - acc: 0.0000e+00\n",
      "Epoch 43/200\n",
      "630/630 [==============================] - 0s 208us/step - loss: 208.9035 - acc: 0.0000e+00\n",
      "Epoch 44/200\n",
      "630/630 [==============================] - 0s 245us/step - loss: 205.3008 - acc: 0.0000e+00\n",
      "Epoch 45/200\n",
      "630/630 [==============================] - 0s 207us/step - loss: 209.0797 - acc: 0.0000e+00\n",
      "Epoch 46/200\n",
      "630/630 [==============================] - 0s 233us/step - loss: 209.2986 - acc: 0.0000e+00\n",
      "Epoch 47/200\n",
      "630/630 [==============================] - 0s 244us/step - loss: 188.7118 - acc: 0.0000e+00\n",
      "Epoch 48/200\n",
      "630/630 [==============================] - 0s 224us/step - loss: 178.4457 - acc: 0.0000e+00\n",
      "Epoch 49/200\n",
      "630/630 [==============================] - 0s 215us/step - loss: 166.4805 - acc: 0.0000e+00\n",
      "Epoch 50/200\n",
      "630/630 [==============================] - 0s 226us/step - loss: 199.8582 - acc: 0.0000e+00\n",
      "Epoch 51/200\n",
      "630/630 [==============================] - 0s 219us/step - loss: 180.1484 - acc: 0.0000e+00\n",
      "Epoch 52/200\n",
      "630/630 [==============================] - 0s 234us/step - loss: 199.6954 - acc: 0.0000e+00\n",
      "Epoch 53/200\n",
      "630/630 [==============================] - 0s 244us/step - loss: 181.5575 - acc: 0.0000e+00\n",
      "Epoch 54/200\n",
      "630/630 [==============================] - 0s 258us/step - loss: 169.6519 - acc: 0.0000e+00\n",
      "Epoch 55/200\n",
      "630/630 [==============================] - 0s 251us/step - loss: 169.4905 - acc: 0.0000e+00\n",
      "Epoch 56/200\n",
      "630/630 [==============================] - 0s 261us/step - loss: 203.1623 - acc: 0.0000e+00\n",
      "Epoch 57/200\n",
      "630/630 [==============================] - 0s 234us/step - loss: 183.6764 - acc: 0.0000e+00\n",
      "Epoch 58/200\n",
      "630/630 [==============================] - 0s 242us/step - loss: 157.5782 - acc: 0.0000e+00\n",
      "Epoch 59/200\n",
      "630/630 [==============================] - 0s 208us/step - loss: 194.6170 - acc: 0.0000e+00\n",
      "Epoch 60/200\n",
      "630/630 [==============================] - 0s 234us/step - loss: 197.4090 - acc: 0.0000e+00\n",
      "Epoch 61/200\n",
      "630/630 [==============================] - 0s 219us/step - loss: 166.9434 - acc: 0.0000e+00\n",
      "Epoch 62/200\n",
      "630/630 [==============================] - 0s 229us/step - loss: 166.5997 - acc: 0.0000e+00\n",
      "Epoch 63/200\n",
      "630/630 [==============================] - 0s 222us/step - loss: 159.4016 - acc: 0.0000e+00\n",
      "Epoch 64/200\n",
      "630/630 [==============================] - 0s 209us/step - loss: 175.0095 - acc: 0.0000e+00\n",
      "Epoch 65/200\n",
      "630/630 [==============================] - 0s 234us/step - loss: 222.5801 - acc: 0.0000e+00\n",
      "Epoch 66/200\n",
      "630/630 [==============================] - 0s 219us/step - loss: 169.4621 - acc: 0.0000e+00\n",
      "Epoch 67/200\n",
      "630/630 [==============================] - 0s 234us/step - loss: 159.0003 - acc: 0.0000e+00\n",
      "Epoch 68/200\n",
      "630/630 [==============================] - 0s 219us/step - loss: 168.8794 - acc: 0.0000e+00\n",
      "Epoch 69/200\n",
      "630/630 [==============================] - 0s 225us/step - loss: 191.3074 - acc: 0.0000e+00\n",
      "Epoch 70/200\n",
      "630/630 [==============================] - 0s 243us/step - loss: 227.1699 - acc: 0.0000e+00\n",
      "Epoch 71/200\n",
      "630/630 [==============================] - 0s 218us/step - loss: 182.5595 - acc: 0.0000e+00\n",
      "Epoch 72/200\n",
      "630/630 [==============================] - 0s 209us/step - loss: 157.3449 - acc: 0.0000e+00\n",
      "Epoch 73/200\n",
      "630/630 [==============================] - 0s 245us/step - loss: 161.4190 - acc: 0.0000e+00\n",
      "Epoch 74/200\n",
      "630/630 [==============================] - 0s 204us/step - loss: 158.3387 - acc: 0.0000e+00\n",
      "Epoch 75/200\n",
      "630/630 [==============================] - 0s 234us/step - loss: 148.5139 - acc: 0.0000e+00\n",
      "Epoch 76/200\n",
      "630/630 [==============================] - 0s 209us/step - loss: 157.8996 - acc: 0.0000e+00\n",
      "Epoch 77/200\n",
      "630/630 [==============================] - 0s 235us/step - loss: 156.6087 - acc: 0.0000e+00\n",
      "Epoch 78/200\n",
      "630/630 [==============================] - 0s 217us/step - loss: 147.1760 - acc: 0.0000e+00\n",
      "Epoch 79/200\n"
     ]
    },
    {
     "name": "stdout",
     "output_type": "stream",
     "text": [
      "630/630 [==============================] - 0s 233us/step - loss: 134.4436 - acc: 0.0000e+00\n",
      "Epoch 80/200\n",
      "630/630 [==============================] - 0s 219us/step - loss: 157.4355 - acc: 0.0000e+00\n",
      "Epoch 81/200\n",
      "630/630 [==============================] - 0s 227us/step - loss: 173.2242 - acc: 0.0000e+00\n",
      "Epoch 82/200\n",
      "630/630 [==============================] - 0s 215us/step - loss: 136.3945 - acc: 0.0000e+00\n",
      "Epoch 83/200\n",
      "630/630 [==============================] - 0s 219us/step - loss: 155.9259 - acc: 0.0000e+00\n",
      "Epoch 84/200\n",
      "630/630 [==============================] - 0s 208us/step - loss: 138.4469 - acc: 0.0000e+00\n",
      "Epoch 85/200\n",
      "630/630 [==============================] - 0s 219us/step - loss: 130.4863 - acc: 0.0000e+00\n",
      "Epoch 86/200\n",
      "630/630 [==============================] - 0s 234us/step - loss: 192.5867 - acc: 0.0000e+00\n",
      "Epoch 87/200\n",
      "630/630 [==============================] - 0s 209us/step - loss: 141.2139 - acc: 0.0000e+00\n",
      "Epoch 88/200\n",
      "630/630 [==============================] - 0s 245us/step - loss: 196.2274 - acc: 0.0000e+00\n",
      "Epoch 89/200\n",
      "630/630 [==============================] - 0s 206us/step - loss: 146.6338 - acc: 0.0000e+00\n",
      "Epoch 90/200\n",
      "630/630 [==============================] - 0s 219us/step - loss: 122.5852 - acc: 0.0000e+00\n",
      "Epoch 91/200\n",
      "630/630 [==============================] - 0s 237us/step - loss: 121.5787 - acc: 0.0000e+00\n",
      "Epoch 92/200\n",
      "630/630 [==============================] - 0s 241us/step - loss: 139.5128 - acc: 0.0000e+00\n",
      "Epoch 93/200\n",
      "630/630 [==============================] - 0s 232us/step - loss: 159.5877 - acc: 0.0000e+00\n",
      "Epoch 94/200\n",
      "630/630 [==============================] - 0s 234us/step - loss: 140.8939 - acc: 0.0000e+00\n",
      "Epoch 95/200\n",
      "630/630 [==============================] - 0s 219us/step - loss: 144.9743 - acc: 0.0000e+00\n",
      "Epoch 96/200\n",
      "630/630 [==============================] - 0s 222us/step - loss: 132.8482 - acc: 0.0000e+00\n",
      "Epoch 97/200\n",
      "630/630 [==============================] - 0s 230us/step - loss: 129.9029 - acc: 0.0000e+00\n",
      "Epoch 98/200\n",
      "630/630 [==============================] - 0s 207us/step - loss: 135.6636 - acc: 0.0000e+00\n",
      "Epoch 99/200\n",
      "630/630 [==============================] - 0s 211us/step - loss: 118.4761 - acc: 0.0000e+00\n",
      "Epoch 100/200\n",
      "630/630 [==============================] - 0s 219us/step - loss: 148.0414 - acc: 0.0000e+00\n",
      "Epoch 101/200\n",
      "630/630 [==============================] - 0s 209us/step - loss: 145.8818 - acc: 0.0000e+00\n",
      "Epoch 102/200\n",
      "630/630 [==============================] - 0s 225us/step - loss: 148.4609 - acc: 0.0000e+00\n",
      "Epoch 103/200\n",
      "630/630 [==============================] - 0s 225us/step - loss: 143.6619 - acc: 0.0000e+00\n",
      "Epoch 104/200\n",
      "630/630 [==============================] - 0s 231us/step - loss: 139.0791 - acc: 0.0000e+00\n",
      "Epoch 105/200\n",
      "630/630 [==============================] - 0s 222us/step - loss: 144.9482 - acc: 0.0000e+00\n",
      "Epoch 106/200\n",
      "630/630 [==============================] - 0s 230us/step - loss: 139.5397 - acc: 0.0000e+00\n",
      "Epoch 107/200\n",
      "630/630 [==============================] - 0s 225us/step - loss: 155.7812 - acc: 0.0000e+00\n",
      "Epoch 108/200\n",
      "630/630 [==============================] - 0s 228us/step - loss: 208.8431 - acc: 0.0000e+00\n",
      "Epoch 109/200\n",
      "630/630 [==============================] - 0s 219us/step - loss: 154.2032 - acc: 0.0000e+00\n",
      "Epoch 110/200\n",
      "630/630 [==============================] - 0s 234us/step - loss: 158.9459 - acc: 0.0000e+00\n",
      "Epoch 111/200\n",
      "630/630 [==============================] - 0s 215us/step - loss: 134.5319 - acc: 0.0000e+00\n",
      "Epoch 112/200\n",
      "630/630 [==============================] - 0s 236us/step - loss: 118.5936 - acc: 0.0000e+00\n",
      "Epoch 113/200\n",
      "630/630 [==============================] - 0s 209us/step - loss: 123.1582 - acc: 0.0000e+00\n",
      "Epoch 114/200\n",
      "630/630 [==============================] - 0s 244us/step - loss: 119.2217 - acc: 0.0000e+00\n",
      "Epoch 115/200\n",
      "630/630 [==============================] - 0s 209us/step - loss: 137.9366 - acc: 0.0000e+00\n",
      "Epoch 116/200\n",
      "630/630 [==============================] - 0s 244us/step - loss: 159.9477 - acc: 0.0000e+00\n",
      "Epoch 117/200\n",
      "630/630 [==============================] - 0s 234us/step - loss: 189.1084 - acc: 0.0000e+00\n",
      "Epoch 118/200\n",
      "630/630 [==============================] - 0s 220us/step - loss: 135.5518 - acc: 0.0000e+00\n",
      "Epoch 119/200\n",
      "630/630 [==============================] - 0s 250us/step - loss: 128.2120 - acc: 0.0000e+00\n",
      "Epoch 120/200\n",
      "630/630 [==============================] - 0s 253us/step - loss: 121.2123 - acc: 0.0000e+00\n",
      "Epoch 121/200\n",
      "630/630 [==============================] - 0s 233us/step - loss: 109.2378 - acc: 0.0000e+00\n",
      "Epoch 122/200\n",
      "630/630 [==============================] - 0s 244us/step - loss: 126.3595 - acc: 0.0000e+00\n",
      "Epoch 123/200\n",
      "630/630 [==============================] - 0s 233us/step - loss: 110.8391 - acc: 0.0000e+00\n",
      "Epoch 124/200\n",
      "630/630 [==============================] - 0s 244us/step - loss: 131.3729 - acc: 0.0000e+00\n",
      "Epoch 125/200\n",
      "630/630 [==============================] - 0s 233us/step - loss: 116.5619 - acc: 0.0000e+00\n",
      "Epoch 126/200\n",
      "630/630 [==============================] - 0s 244us/step - loss: 169.7267 - acc: 0.0000e+00\n",
      "Epoch 127/200\n",
      "630/630 [==============================] - 0s 233us/step - loss: 145.4105 - acc: 0.0000e+00\n",
      "Epoch 128/200\n",
      "630/630 [==============================] - 0s 244us/step - loss: 143.0019 - acc: 0.0000e+00\n",
      "Epoch 129/200\n",
      "630/630 [==============================] - 0s 233us/step - loss: 140.3035 - acc: 0.0000e+00\n",
      "Epoch 130/200\n",
      "630/630 [==============================] - 0s 244us/step - loss: 130.1285 - acc: 0.0000e+00\n",
      "Epoch 131/200\n",
      "630/630 [==============================] - 0s 233us/step - loss: 120.4380 - acc: 0.0000e+00\n",
      "Epoch 132/200\n",
      "630/630 [==============================] - 0s 256us/step - loss: 141.8061 - acc: 0.0000e+00\n",
      "Epoch 133/200\n",
      "630/630 [==============================] - 0s 220us/step - loss: 124.8451 - acc: 0.0000e+00\n",
      "Epoch 134/200\n",
      "630/630 [==============================] - 0s 244us/step - loss: 141.1120 - acc: 0.0000e+00\n",
      "Epoch 135/200\n",
      "630/630 [==============================] - 0s 233us/step - loss: 120.1623 - acc: 0.0000e+00\n",
      "Epoch 136/200\n",
      "630/630 [==============================] - 0s 219us/step - loss: 134.6778 - acc: 0.0000e+00\n",
      "Epoch 137/200\n",
      "630/630 [==============================] - 0s 234us/step - loss: 135.1438 - acc: 0.0000e+00\n",
      "Epoch 138/200\n",
      "630/630 [==============================] - 0s 244us/step - loss: 123.3686 - acc: 0.0000e+00\n",
      "Epoch 139/200\n",
      "630/630 [==============================] - 0s 248us/step - loss: 138.8544 - acc: 0.0000e+00\n",
      "Epoch 140/200\n",
      "630/630 [==============================] - 0s 226us/step - loss: 122.4958 - acc: 0.0000e+00\n",
      "Epoch 141/200\n",
      "630/630 [==============================] - 0s 234us/step - loss: 133.5906 - acc: 0.0000e+00\n",
      "Epoch 142/200\n",
      "630/630 [==============================] - 0s 244us/step - loss: 132.7919 - acc: 0.0000e+00\n",
      "Epoch 143/200\n",
      "630/630 [==============================] - 0s 242us/step - loss: 114.4670 - acc: 0.0000e+00\n",
      "Epoch 144/200\n",
      "630/630 [==============================] - 0s 234us/step - loss: 128.7717 - acc: 0.0000e+00\n",
      "Epoch 145/200\n",
      "630/630 [==============================] - 0s 252us/step - loss: 167.9177 - acc: 0.0000e+00\n",
      "Epoch 146/200\n",
      "630/630 [==============================] - 0s 233us/step - loss: 114.4778 - acc: 0.0000e+00\n",
      "Epoch 147/200\n",
      "630/630 [==============================] - 0s 221us/step - loss: 102.5850 - acc: 0.0000e+00\n",
      "Epoch 148/200\n",
      "630/630 [==============================] - 0s 244us/step - loss: 108.3368 - acc: 0.0000e+00\n",
      "Epoch 149/200\n",
      "630/630 [==============================] - 0s 234us/step - loss: 122.4644 - acc: 0.0000e+00\n",
      "Epoch 150/200\n",
      "630/630 [==============================] - 0s 221us/step - loss: 114.0572 - acc: 0.0000e+00\n",
      "Epoch 151/200\n",
      "630/630 [==============================] - 0s 231us/step - loss: 119.0469 - acc: 0.0000e+00\n",
      "Epoch 152/200\n",
      "630/630 [==============================] - 0s 212us/step - loss: 110.3854 - acc: 0.0000e+00\n",
      "Epoch 153/200\n",
      "630/630 [==============================] - 0s 216us/step - loss: 112.5973 - acc: 0.0000e+00\n",
      "Epoch 154/200\n",
      "630/630 [==============================] - 0s 208us/step - loss: 127.9866 - acc: 0.0000e+00\n",
      "Epoch 155/200\n",
      "630/630 [==============================] - 0s 219us/step - loss: 124.5563 - acc: 0.0000e+00\n",
      "Epoch 156/200\n",
      "630/630 [==============================] - 0s 258us/step - loss: 125.2171 - acc: 0.0000e+00\n",
      "Epoch 157/200\n",
      "630/630 [==============================] - 0s 242us/step - loss: 108.2412 - acc: 0.0000e+00\n",
      "Epoch 158/200\n",
      "630/630 [==============================] - 0s 233us/step - loss: 111.2447 - acc: 0.0000e+00\n",
      "Epoch 159/200\n",
      "630/630 [==============================] - 0s 243us/step - loss: 114.7529 - acc: 0.0000e+00\n",
      "Epoch 160/200\n",
      "630/630 [==============================] - 0s 233us/step - loss: 123.2129 - acc: 0.0000e+00\n",
      "Epoch 161/200\n",
      "630/630 [==============================] - 0s 244us/step - loss: 119.1080 - acc: 0.0000e+00\n",
      "Epoch 162/200\n",
      "630/630 [==============================] - 0s 258us/step - loss: 122.7000 - acc: 0.0000e+00\n",
      "Epoch 163/200\n",
      "630/630 [==============================] - 0s 244us/step - loss: 114.3718 - acc: 0.0000e+00\n",
      "Epoch 164/200\n",
      "630/630 [==============================] - 0s 278us/step - loss: 110.2062 - acc: 0.0000e+00\n",
      "Epoch 165/200\n",
      "630/630 [==============================] - 0s 250us/step - loss: 126.0528 - acc: 0.0000e+00\n",
      "Epoch 166/200\n",
      "630/630 [==============================] - 0s 238us/step - loss: 128.6720 - acc: 0.0000e+00\n",
      "Epoch 167/200\n",
      "630/630 [==============================] - 0s 260us/step - loss: 121.2155 - acc: 0.0000e+00\n",
      "Epoch 168/200\n",
      "630/630 [==============================] - 0s 240us/step - loss: 133.7386 - acc: 0.0000e+00\n",
      "Epoch 169/200\n",
      "630/630 [==============================] - 0s 258us/step - loss: 124.6874 - acc: 0.0000e+00\n",
      "Epoch 170/200\n",
      "630/630 [==============================] - 0s 219us/step - loss: 127.4238 - acc: 0.0000e+00\n",
      "Epoch 171/200\n",
      "630/630 [==============================] - 0s 233us/step - loss: 98.2688 - acc: 0.0000e+00\n",
      "Epoch 172/200\n",
      "630/630 [==============================] - 0s 243us/step - loss: 131.3292 - acc: 0.0000e+00\n",
      "Epoch 173/200\n",
      "630/630 [==============================] - 0s 233us/step - loss: 116.5814 - acc: 0.0000e+00\n",
      "Epoch 174/200\n",
      "630/630 [==============================] - 0s 253us/step - loss: 107.9717 - acc: 0.0000e+00\n",
      "Epoch 175/200\n",
      "630/630 [==============================] - 0s 223us/step - loss: 112.4421 - acc: 0.0000e+00\n",
      "Epoch 176/200\n",
      "630/630 [==============================] - 0s 219us/step - loss: 143.0291 - acc: 0.0000e+00\n",
      "Epoch 177/200\n",
      "630/630 [==============================] - 0s 209us/step - loss: 144.3522 - acc: 0.0000e+00\n",
      "Epoch 178/200\n",
      "630/630 [==============================] - 0s 238us/step - loss: 133.1086 - acc: 0.0000e+00\n",
      "Epoch 179/200\n",
      "630/630 [==============================] - 0s 240us/step - loss: 118.9371 - acc: 0.0000e+00\n",
      "Epoch 180/200\n",
      "630/630 [==============================] - 0s 244us/step - loss: 97.0843 - acc: 0.0000e+00\n",
      "Epoch 181/200\n",
      "630/630 [==============================] - 0s 233us/step - loss: 105.2488 - acc: 0.0000e+00\n",
      "Epoch 182/200\n",
      "630/630 [==============================] - 0s 243us/step - loss: 110.8659 - acc: 0.0000e+00\n",
      "Epoch 183/200\n",
      "630/630 [==============================] - 0s 209us/step - loss: 118.6564 - acc: 0.0000e+00\n",
      "Epoch 184/200\n",
      "630/630 [==============================] - 0s 244us/step - loss: 111.0169 - acc: 0.0000e+00\n",
      "Epoch 185/200\n",
      "630/630 [==============================] - 0s 231us/step - loss: 115.1993 - acc: 0.0000e+00\n",
      "Epoch 186/200\n",
      "630/630 [==============================] - 0s 208us/step - loss: 105.8818 - acc: 0.0000e+00\n",
      "Epoch 187/200\n",
      "630/630 [==============================] - 0s 244us/step - loss: 90.0772 - acc: 0.0000e+00\n",
      "Epoch 188/200\n",
      "630/630 [==============================] - 0s 209us/step - loss: 109.5706 - acc: 0.0000e+00\n",
      "Epoch 189/200\n",
      "630/630 [==============================] - 0s 219us/step - loss: 102.0604 - acc: 0.0000e+00\n",
      "Epoch 190/200\n",
      "630/630 [==============================] - 0s 234us/step - loss: 110.0728 - acc: 0.0000e+00\n",
      "Epoch 191/200\n",
      "630/630 [==============================] - 0s 219us/step - loss: 92.3584 - acc: 0.0000e+00\n",
      "Epoch 192/200\n",
      "630/630 [==============================] - 0s 237us/step - loss: 110.4306 - acc: 0.0000e+00\n",
      "Epoch 193/200\n",
      "630/630 [==============================] - 0s 215us/step - loss: 92.5867 - acc: 0.0000e+00\n",
      "Epoch 194/200\n",
      "630/630 [==============================] - 0s 233us/step - loss: 111.0326 - acc: 0.0000e+00\n",
      "Epoch 195/200\n",
      "630/630 [==============================] - 0s 233us/step - loss: 99.1166 - acc: 0.0000e+00\n",
      "Epoch 196/200\n",
      "630/630 [==============================] - 0s 243us/step - loss: 120.6190 - acc: 0.0000e+00\n",
      "Epoch 197/200\n",
      "630/630 [==============================] - 0s 207us/step - loss: 115.5801 - acc: 0.0000e+00\n",
      "Epoch 198/200\n",
      "630/630 [==============================] - 0s 244us/step - loss: 110.6668 - acc: 0.0000e+00\n",
      "Epoch 199/200\n",
      "630/630 [==============================] - 0s 226us/step - loss: 99.1922 - acc: 0.0000e+00\n",
      "Epoch 200/200\n",
      "630/630 [==============================] - 0s 222us/step - loss: 111.3570 - acc: 0.0000e+00\n"
     ]
    },
    {
     "data": {
      "text/plain": [
       "<keras.callbacks.History at 0x12dbc7b75f8>"
      ]
     },
     "execution_count": 38,
     "metadata": {},
     "output_type": "execute_result"
    }
   ],
   "source": [
    "model.fit(X1, Y1, epochs=200, batch_size=20,  verbose=1)"
   ]
  },
  {
   "cell_type": "code",
   "execution_count": 39,
   "metadata": {},
   "outputs": [],
   "source": [
    "PredTestSet = model.predict(X1)\n",
    "PredValSet = model.predict(X2)"
   ]
  },
  {
   "cell_type": "code",
   "execution_count": 40,
   "metadata": {},
   "outputs": [
    {
     "data": {
      "text/plain": [
       "Text(0, 0.5, 'Predicted')"
      ]
     },
     "execution_count": 40,
     "metadata": {},
     "output_type": "execute_result"
    },
    {
     "data": {
      "image/png": "[encoded data removed]",
      "text/plain": [
       "<Figure size 432x288 with 1 Axes>"
      ]
     },
     "metadata": {
      "needs_background": "light"
     },
     "output_type": "display_data"
    }
   ],
   "source": [
    "plt.plot(Y1,PredTestSet,'ro')\n",
    "plt.title('Training Set')\n",
    "plt.xlabel('Actual')\n",
    "plt.ylabel('Predicted')"
   ]
  },
  {
   "cell_type": "code",
   "execution_count": 41,
   "metadata": {},
   "outputs": [
    {
     "data": {
      "text/plain": [
       "Text(0, 0.5, 'Predicted')"
      ]
     },
     "execution_count": 41,
     "metadata": {},
     "output_type": "execute_result"
    },
    {
     "data": {
      "image/png": "[encoded data removed]",
      "text/plain": [
       "<Figure size 432x288 with 1 Axes>"
      ]
     },
     "metadata": {
      "needs_background": "light"
     },
     "output_type": "display_data"
    }
   ],
   "source": [
    "plt.plot(Y2,PredValSet,'ro')\n",
    "plt.title('Validation Set')\n",
    "plt.xlabel('Actual')\n",
    "plt.ylabel('Predicted')"
   ]
  },
  {
   "cell_type": "code",
   "execution_count": 42,
   "metadata": {},
   "outputs": [
    {
     "name": "stdout",
     "output_type": "stream",
     "text": [
      "Validation Set R-Square= 0.8215375683012937\n"
     ]
    }
   ],
   "source": [
    "ValR2Value = r2_score(Y2,PredValSet)\n",
    "print(\"Validation Set R-Square=\",ValR2Value)"
   ]
  },
  {
   "cell_type": "code",
   "execution_count": 43,
   "metadata": {},
   "outputs": [
    {
     "data": {
      "text/plain": [
       "315"
      ]
     },
     "execution_count": 43,
     "metadata": {},
     "output_type": "execute_result"
    }
   ],
   "source": [
    "data_list = np.arange(315)\n",
    "Y2.size"
   ]
  },
  {
   "cell_type": "code",
   "execution_count": 44,
   "metadata": {},
   "outputs": [
    {
     "data": {
      "text/plain": [
       "Text(23.875, 0.5, 'predictions & actual label')"
      ]
     },
     "execution_count": 44,
     "metadata": {},
     "output_type": "execute_result"
    },
    {
     "data": {
      "image/png": "[encoded data removed]",
      "text/plain": [
       "<Figure size 432x288 with 1 Axes>"
      ]
     },
     "metadata": {
      "needs_background": "light"
     },
     "output_type": "display_data"
    }
   ],
   "source": [
    "plt.plot(data_list, PredValSet, label='Prediction')\n",
    "plt.plot(data_list, Y2, label='Actual Label')\n",
    "plt.legend()\n",
    "plt.tight_layout()\n",
    "plt.title('Model Accuracy', fontsize=14)\n",
    "plt.xlabel('Number of instance in training data', fontsize=12)\n",
    "plt.ylabel('predictions & actual label', fontsize=12)"
   ]
  },
  {
   "cell_type": "code",
   "execution_count": 45,
   "metadata": {},
   "outputs": [],
   "source": []
  },
  {
   "cell_type": "code",
   "execution_count": null,
   "metadata": {},
   "outputs": [],
   "source": []
  }
 ],
 "metadata": {
  "kernelspec": {
   "display_name": "Python 3",
   "language": "python",
   "name": "python3"
  },
  "language_info": {
   "codemirror_mode": {
    "name": "ipython",
    "version": 3
   },
   "file_extension": ".py",
   "mimetype": "text/x-python",
   "name": "python",
   "nbconvert_exporter": "python",
   "pygments_lexer": "ipython3",
   "version": "3.7.4"
  }
 },
 "nbformat": 4,
 "nbformat_minor": 2
}
