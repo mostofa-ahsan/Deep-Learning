{
 "cells": [
  {
   "cell_type": "code",
   "execution_count": 30,
   "metadata": {
    "collapsed": true
   },
   "outputs": [],
   "source": [
    "from collections import Counter\n",
    "import matplotlib.pyplot as plt\n",
    "import networkx as nx\n",
    "import sys\n",
    "import time\n",
    "from TwitterAPI import TwitterAPI\n",
    "consumer_key = 'xxxxxxxxxxxxxxxxx'\n",
    "consumer_secret = 'xxxxxxxxxxxxxxxxxxxxxxxxxxx'\n",
    "access_token = 'xxxxxxxxxxxxxxxxxxxx'\n",
    "access_token_secret = 'xxxxxxxxxxxxxxxxxxxx'"
   ]
  },
  {
   "cell_type": "code",
   "execution_count": 31,
   "metadata": {
    "collapsed": true
   },
   "outputs": [],
   "source": [
    "def get_twitter():\n",
    "    \"\"\" \n",
    "    Construct an instance of TwitterAPI using the tokens you entered above.\n",
    "    Returns:\n",
    "      An instance of TwitterAPI.\n",
    "    \"\"\"\n",
    "    return TwitterAPI(consumer_key, consumer_secret, access_token, access_token_secret)"
   ]
  },
  {
   "cell_type": "code",
   "execution_count": 32,
   "metadata": {
    "collapsed": true
   },
   "outputs": [],
   "source": [
    "def read_screen_names(filename):\n",
    "    \"\"\"\n",
    "    Read a text file containing Twitter screen_names, one per line.\n",
    "\n",
    "    Params:\n",
    "        filename....Name of the file to read.\n",
    "    Returns:\n",
    "        A list of strings, one per screen_name, in the order they are listed\n",
    "        in the file.\n",
    "\n",
    "    \"\"\"\n",
    "    return [line.strip('\\n').strip() for line in open(filename)]"
   ]
  },
  {
   "cell_type": "code",
   "execution_count": 33,
   "metadata": {
    "collapsed": true
   },
   "outputs": [],
   "source": [
    "def robust_request(twitter, resource, params, max_tries=5):\n",
    "    \"\"\" \n",
    "    If a Twitter request fails, sleep for 15 minutes.\n",
    "    Do this at most max_tries times before quitting.\n",
    "    Args:\n",
    "      twitter .... A TwitterAPI object.\n",
    "      resource ... A resource string to request; e.g., \"friends/ids\"\n",
    "      params ..... A parameter dict for the request, e.g., to specify\n",
    "                   parameters like screen_name or count.\n",
    "      max_tries .. The maximum number of tries to attempt.\n",
    "    Returns:\n",
    "      A TwitterResponse object, or None if failed.\n",
    "    \"\"\"\n",
    "    for i in range(max_tries):\n",
    "        request = twitter.request(resource, params)\n",
    "        if request.status_code == 200:\n",
    "            return request\n",
    "        else:\n",
    "            print('Got error %s \\nsleeping for 15 minutes.' % request.text)\n",
    "            sys.stderr.flush()\n",
    "            time.sleep(61 * 15)"
   ]
  },
  {
   "cell_type": "code",
   "execution_count": 34,
   "metadata": {
    "collapsed": true
   },
   "outputs": [],
   "source": [
    "def get_users(twitter, screen_names):\n",
    "    \"\"\"\n",
    "    Retrieve the Twitter user objects for each screen_name.\n",
    "    Params:\n",
    "        twitter........The TwitterAPI object.\n",
    "        screen_names...A list of strings, one per screen_name\n",
    "    Returns:\n",
    "        A list of dicts, one per user, containing all the user information\n",
    "        (e.g., screen_name, id, location, etc)\n",
    "\n",
    "    \"\"\"\n",
    "    users = []\n",
    "    r_request = robust_request(twitter, \"users/lookup\", {\"screen_name\": screen_names})\n",
    "    for r in r_request:\n",
    "        users.append(r)\n",
    "\n",
    "    return users"
   ]
  },
  {
   "cell_type": "code",
   "execution_count": 35,
   "metadata": {
    "collapsed": true
   },
   "outputs": [],
   "source": [
    "def get_friends(twitter, screen_name):\n",
    "    \"\"\" \n",
    "    Return a list of Twitter IDs for users that this person follows, up to 5000.\n",
    "\n",
    "    Args:\n",
    "        twitter.......The TwitterAPI object\n",
    "        screen_name... a string of a Twitter screen name\n",
    "    Returns:\n",
    "        A list of ints, one per friend ID, sorted in ascending order.\n",
    "\n",
    "    \"\"\"\n",
    "    r_request = robust_request(twitter, \"friends/ids\", {\"screen_name\": screen_name}).json()\n",
    "    return sorted(r_request['ids'])"
   ]
  },
  {
   "cell_type": "code",
   "execution_count": 36,
   "metadata": {
    "collapsed": true
   },
   "outputs": [],
   "source": [
    "def add_all_friends(twitter, users):\n",
    "    \"\"\" \n",
    "    Get the list of accounts each user follows.\n",
    "    I.e., call the get_friends method for all 4 candidates.\n",
    "\n",
    "    Store the result in each user's dict using a new key called 'friends'.\n",
    "\n",
    "    Args:\n",
    "        twitter...The TwitterAPI object.\n",
    "        users.....The list of user dicts.\n",
    "    Returns:\n",
    "        Nothing\n",
    "\n",
    "    \"\"\"\n",
    "    for u in users:\n",
    "        u['friends'] = get_friends(twitter, u['screen_name'])"
   ]
  },
  {
   "cell_type": "code",
   "execution_count": 37,
   "metadata": {
    "collapsed": true
   },
   "outputs": [],
   "source": [
    "def print_num_friends(users):\n",
    "    \"\"\"\n",
    "    Print the number of friends per candidate, sorted by candidate name.\n",
    "    See Log.txt for an example.\n",
    "    Args:\n",
    "        users....The list of user dicts.\n",
    "    Returns:\n",
    "        Nothing\n",
    "    \"\"\"\n",
    "    for u in users:\n",
    "        print(u['screen_name'],len(u['friends']))"
   ]
  },
  {
   "cell_type": "code",
   "execution_count": 38,
   "metadata": {
    "collapsed": true
   },
   "outputs": [],
   "source": [
    "def count_friends(users):\n",
    "    \"\"\" \n",
    "    Count how often each friend is followed.\n",
    "    Args:\n",
    "        users: a list of user dicts\n",
    "    Returns:\n",
    "        a Counter object mapping each friend to the number of candidates who follow them.\n",
    "\n",
    "    \"\"\"\n",
    "    c_f = []\n",
    "    for u in users:\n",
    "        c_f = c_f + u['friends']\n",
    "    return Counter(c_f)"
   ]
  },
  {
   "cell_type": "code",
   "execution_count": 39,
   "metadata": {
    "collapsed": true
   },
   "outputs": [],
   "source": [
    "def friend_overlap(users):\n",
    "    \"\"\"\n",
    "    Compute the number of shared accounts followed by each pair of users.\n",
    "\n",
    "    Args:\n",
    "        users...The list of user dicts.\n",
    "\n",
    "    Return: A list of tuples containing (user1, user2, N), where N is the\n",
    "        number of accounts that both user1 and user2 follow.  \n",
    "\n",
    "    \"\"\"\n",
    "    f_o = []\n",
    "    for i in range(0,len(users)-1):\n",
    "        for j in range(i+1,len(users)):\n",
    "            com_f = Counter(users[i]['friends'] + users[j]['friends']).most_common()\n",
    "            count = 0\n",
    "            for k in range(0,len(com_f)):\n",
    "                if com_f[k][1]==2:\n",
    "                    count = count+1\n",
    "            tup = (users[i]['screen_name'],users[j]['screen_name'],count)\n",
    "            f_o.append(tup)\n",
    "\n",
    "    sorted_val = sorted(f_o,key=lambda x: [-x[2], x[0], x[1]])\n",
    "    return sorted_val"
   ]
  },
  {
   "cell_type": "code",
   "execution_count": 40,
   "metadata": {
    "collapsed": true
   },
   "outputs": [],
   "source": [
    "def followed_by_hillary_and_donald(users, twitter):\n",
    "    \"\"\"\n",
    "    Find and return the screen_name of the one Twitter user followed by both Hillary\n",
    "    Clinton and Donald Trump.\n",
    "    Params:\n",
    "        users.....The list of user dicts\n",
    "        twitter...The Twitter API object\n",
    "    Returns:\n",
    "        A string containing the single Twitter screen_name of the user\n",
    "        that is followed by both Hillary Clinton and Donald Trump.\n",
    "    \"\"\"\n",
    "    for user in users:\n",
    "        if user['screen_name'] == 'realDonaldTrump':\n",
    "            fl1 = user['friends']\n",
    "        if user['screen_name'] == 'HillaryClinton':\n",
    "            fl2 = user['friends']\n",
    "    fl = fl1 + fl2\n",
    "    fid = Counter(fl).most_common()\n",
    "    common_friends = []\n",
    "    for id in fid:\n",
    "        if id[1] == 2:\n",
    "            r_request = robust_request(twitter, \"users/lookup\", {\"user_id\": id}).json()\n",
    "            common_friends.append(r_request[0]['screen_name'])\n",
    "        elif len(common_friends) == 0:\n",
    "            common_friends.append(\"no common friend found\")\n",
    "            break\n",
    "    \n",
    "    return common_friends"
   ]
  },
  {
   "cell_type": "code",
   "execution_count": 41,
   "metadata": {
    "collapsed": true
   },
   "outputs": [],
   "source": [
    "def create_graph(users, friend_counts):\n",
    "    \"\"\" Create a networkx undirected Graph, adding each candidate and friend\n",
    "        as a node.  Note: while all candidates should be added to the graph,\n",
    "        only add friends to the graph if they are followed by more than one\n",
    "        candidate. (This is to reduce clutter.)\n",
    "\n",
    "        Each candidate in the Graph will be represented by their screen_name,\n",
    "        while each friend will be represented by their user id.\n",
    "\n",
    "    Args:\n",
    "      users...........The list of user dicts.\n",
    "      friend_counts...The Counter dict mapping each friend to the number of candidates that follow them.\n",
    "    Returns:\n",
    "      A networkx Graph\n",
    "    \"\"\"\n",
    "    G = nx.Graph()\n",
    "    user = []\n",
    "    for u in users:\n",
    "        user.append(u['screen_name'])\n",
    "        d[u['screen_name']]=u['screen_name']\n",
    "    G.add_nodes_from(user)\n",
    "    f_n = []\n",
    "\n",
    "    for u in users:\n",
    "        for friend in u['friends']:\n",
    "            if friend_counts[friend]>= 2:\n",
    "                f_n.append(friend)\n",
    "                d[friend]=\"\"\n",
    "    G.add_nodes_from(f_n)\n",
    "\n",
    "    for u in users:\n",
    "        for friend in u['friends']:\n",
    "            if friend in G.nodes():\n",
    "                G.add_edge(u['screen_name'],friend,color='g')\n",
    "\n",
    "    return G"
   ]
  },
  {
   "cell_type": "code",
   "execution_count": 42,
   "metadata": {
    "collapsed": true
   },
   "outputs": [],
   "source": [
    "def draw_network(graph, users, filename):\n",
    "    \"\"\"\n",
    "    Draws the network to a file. \n",
    "    We have labelled the candidate nodes; the friend\n",
    "    nodes have no labels (to reduce clutter).\n",
    "    \"\"\"\n",
    "    plt.figure(figsize=(6,6))\n",
    "    nx.draw_networkx(graph,with_labels=True,labels=d,alpha=0.3,node_size=30)\n",
    "    #plt.show(graph)\n",
    "    plt.savefig(filename)"
   ]
  },
  {
   "cell_type": "code",
   "execution_count": 43,
   "metadata": {
    "collapsed": true
   },
   "outputs": [],
   "source": [
    "def main():\n",
    "    \"\"\" Main method \"\"\"\n",
    "    twitter = get_twitter()\n",
    "    screen_names = read_screen_names('candidates.txt')\n",
    "    print('Established Twitter connection.')\n",
    "    print('Read screen names: %s' % screen_names)\n",
    "    users = sorted(get_users(twitter, screen_names), key=lambda x: x['screen_name'])\n",
    "    print('found %d users with screen_names %s' %\n",
    "          (len(users), str([u['screen_name'] for u in users])))\n",
    "    add_all_friends(twitter, users)\n",
    "    print('Friends per candidate:')\n",
    "    print_num_friends(users)\n",
    "    friend_counts = count_friends(users)\n",
    "    print('Most common friends:\\n%s' % str(friend_counts.most_common(5)))\n",
    "    print('Friend Overlap:\\n%s' % str(friend_overlap(users)))\n",
    "    print('User followed by Hillary and Donald: %s' % followed_by_hillary_and_donald(users, twitter))\n",
    "\n",
    "    graph = create_graph(users, friend_counts)\n",
    "    print('graph has %s nodes and %s edges' % (len(graph.nodes()), len(graph.edges())))\n",
    "    draw_network(graph, users, 'network.png')\n",
    "    print('network drawn to network.png')\n",
    "\n"
   ]
  },
  {
   "cell_type": "code",
   "execution_count": null,
   "metadata": {},
   "outputs": [
    {
     "name": "stdout",
     "output_type": "stream",
     "text": [
      "Established Twitter connection.\n",
      "Read screen names: ['DrJillStein', 'GovGaryJohnson', 'HillaryClinton', 'realDonaldTrump']\n",
      "found 4 users with screen_names ['DrJillStein', 'GovGaryJohnson', 'HillaryClinton', 'realDonaldTrump']\n",
      "Got error {\"errors\":[{\"message\":\"Rate limit exceeded\",\"code\":88}]} \n",
      "sleeping for 15 minutes.\n"
     ]
    }
   ],
   "source": [
    "if __name__ == '__main__':\n",
    "    main()"
   ]
  },
  {
   "cell_type": "code",
   "execution_count": null,
   "metadata": {
    "collapsed": true
   },
   "outputs": [],
   "source": []
  }
 ],
 "metadata": {
  "kernelspec": {
   "display_name": "Python 3",
   "language": "python",
   "name": "python3"
  },
  "language_info": {
   "codemirror_mode": {
    "name": "ipython",
    "version": 3
   },
   "file_extension": ".py",
   "mimetype": "text/x-python",
   "name": "python",
   "nbconvert_exporter": "python",
   "pygments_lexer": "ipython3",
   "version": "3.6.1"
  }
 },
 "nbformat": 4,
 "nbformat_minor": 2
}
